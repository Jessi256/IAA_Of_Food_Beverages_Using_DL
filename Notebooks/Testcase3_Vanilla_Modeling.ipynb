{
 "cells": [
  {
   "cell_type": "markdown",
   "metadata": {},
   "source": [
    "<img src=\"https://upload.wikimedia.org/wikipedia/de/thumb/5/5b/Hochschule-aalen.svg/2000px-Hochschule-aalen.svg.png\" alt=\"last access: 29.09.2021\" width=\"400\" height=\"30\" style=\"float:right\"/>\n",
    "\n",
    "<img src=\"https://upload.wikimedia.org/wikipedia/de/thumb/4/41/Groupe_SEB_logo.svg/1200px-Groupe_SEB_logo.svg.png\" alt=\"last access: 11.09.2022\" width=\"30\" height=\"30\" style=\"float:left\"/>"
   ]
  },
  {
   "cell_type": "markdown",
   "metadata": {},
   "source": [
    "<hr style=\"height:2px;border:none;color:#003A6C;background-color:#003A6C;\" />\n"
   ]
  },
  {
   "cell_type": "markdown",
   "metadata": {},
   "source": [
    "Master Thesis Jessica Weiler, M.Sc. Data Science and Business Analytics "
   ]
  },
  {
   "cell_type": "markdown",
   "metadata": {},
   "source": [
    "# Image aesthetics assessment (IAA) of food and beverages using deep learning\n",
    "\n"
   ]
  },
  {
   "attachments": {
    "image.png": {
     "image/png": "[encoded data removed]"
    }
   },
   "cell_type": "markdown",
   "metadata": {},
   "source": [
    "## Testcase 3: Vanilla Modeling\n",
    "![image.png](attachment:image.png)"
   ]
  },
  {
   "cell_type": "markdown",
   "metadata": {},
   "source": [
    "Four state-of-the-art vanilla models (weights=None) are initialized. "
   ]
  },
  {
   "cell_type": "markdown",
   "metadata": {},
   "source": [
    "### Load libraries"
   ]
  },
  {
   "cell_type": "code",
   "execution_count": null,
   "metadata": {
    "scrolled": true
   },
   "outputs": [],
   "source": [
    "import numpy as np \n",
    "import matplotlib.pyplot as plt\n",
    "import pandas as pd \n",
    "import os\n",
    "import PIL\n",
    "import PIL.Image\n",
    "from PIL import ImageFile\n",
    "ImageFile.LOAD_TRUNCATED_IMAGES = True\n",
    "import time\n",
    "import datetime\n",
    "\n",
    "import seaborn as sns\n",
    "from sklearn.metrics import confusion_matrix, classification_report, ConfusionMatrixDisplay, accuracy_score\n",
    "from sklearn.model_selection import GridSearchCV, validation_curve, train_test_split, RandomizedSearchCV\n",
    "\n",
    "import tensorflow as tf\n",
    "from tensorflow.keras.applications import VGG16, VGG19, Xception, ResNet50, inception_v3\n",
    "from keras.applications.inception_v3 import InceptionV3\n",
    "from tensorflow.keras.models import Sequential, Model\n",
    "from tensorflow.keras.layers import Dense,Flatten\n",
    "# Image processing / Data Augmentation \n",
    "from tensorflow.keras.preprocessing.image import ImageDataGenerator\n",
    "from tensorflow import keras\n",
    "\n",
    "\n"
   ]
  },
  {
   "cell_type": "markdown",
   "metadata": {},
   "source": [
    "### Set Paths"
   ]
  },
  {
   "cell_type": "code",
   "execution_count": null,
   "metadata": {},
   "outputs": [],
   "source": [
    "#Set paths\n",
    "\n",
    "#Set workdir\n",
    "wpth =os.path.abspath(os.getcwd()).replace(\"\\\\\",\"/\")\n",
    "\n",
    "#Save data save path\n",
    "save_data_dir = os.path.join(wpth, 'Saved_Data').replace(\"\\\\\",\"/\")\n",
    "checkpoint_dir=  os.path.join(save_data_dir, 'Checkpoint').replace(\"\\\\\",\"/\")\n",
    "df_model_histor_dir=  os.path.join(save_data_dir, 'df_model_history').replace(\"\\\\\",\"/\")\n",
    "\n",
    "\n",
    "#Set folderpath RIAA \n",
    "RIAA_pth = os.path.join(wpth, 'Dataset','RIAA').replace(\"\\\\\",\"/\")\n",
    "\n",
    "RIAA_train_pth = os.path.join(RIAA_pth, 'Data_Split', 'train').replace(\"\\\\\",\"/\")\n",
    "RIAA_test_pth = os.path.join(RIAA_pth, 'Data_Split', 'test').replace(\"\\\\\",\"/\")\n",
    "RIAA_val_pth = os.path.join(RIAA_pth, 'Data_Split', 'val').replace(\"\\\\\",\"/\")\n",
    "\n",
    "RIAA_224_train_pth = os.path.join(RIAA_pth, 'Data_Split_224', 'train').replace(\"\\\\\",\"/\")\n",
    "RIAA_224_test_pth = os.path.join(RIAA_pth, 'Data_Split_224', 'test').replace(\"\\\\\",\"/\")\n",
    "RIAA_224_val_pth = os.path.join(RIAA_pth, 'Data_Split_224', 'val').replace(\"\\\\\",\"/\")\n",
    "\n",
    "RIAA_224_binary_balanced_train_pth = os.path.join(RIAA_pth, 'Data_Split_Binary_Balanced_224', 'train').replace(\"\\\\\",\"/\")\n",
    "RIAA_224_binary_balanced_test_pth = os.path.join(RIAA_pth, 'Data_Split_Binary_Balanced_224', 'test').replace(\"\\\\\",\"/\")\n",
    "RIAA_224_binary_balanced_val_pth = os.path.join(RIAA_pth, 'Data_Split_Binary_Balanced_224', 'val').replace(\"\\\\\",\"/\")\n",
    "\n",
    "RIAA_224_binary_warped_train_pth = os.path.join(RIAA_pth, 'Data_Split_Binary_224', 'train').replace(\"\\\\\",\"/\")\n",
    "RIAA_224_binary_warped_test_pth = os.path.join(RIAA_pth, 'Data_Split_Binary_224', 'test').replace(\"\\\\\",\"/\")\n",
    "RIAA_224_binary_warped_val_pth = os.path.join(RIAA_pth, 'Data_Split_Binary_224', 'val').replace(\"\\\\\",\"/\")\n",
    "\n",
    "RIAA_224_binary_cropped_train_pth = os.path.join(RIAA_pth, 'Data_Split_Resized_Cropped_224', 'train').replace(\"\\\\\",\"/\")\n",
    "RIAA_224_binary_cropped_test_pth = os.path.join(RIAA_pth, 'Data_Split_Resized_Cropped_224', 'test').replace(\"\\\\\",\"/\")\n",
    "RIAA_224_binary_cropped_val_pth = os.path.join(RIAA_pth, 'Data_Split_Resized_Cropped_224', 'val').replace(\"\\\\\",\"/\")\n",
    "\n",
    "RIAA_299_binary_warped_train_pth = os.path.join(RIAA_pth, 'Data_Split_Binary_300', 'train').replace(\"\\\\\",\"/\")\n",
    "RIAA_299_binary_warped_test_pth = os.path.join(RIAA_pth, 'Data_Split_Binary_300', 'test').replace(\"\\\\\",\"/\")\n",
    "RIAA_299_binary_warped_val_pth = os.path.join(RIAA_pth, 'Data_Split_Binary_300', 'val').replace(\"\\\\\",\"/\")\n",
    "\n",
    "\n",
    "#Set folderpath GPD \n",
    "GPD_pth = os.path.join(wpth, 'Dataset', 'GPD').replace(\"\\\\\",\"/\")\n",
    "\n",
    "GPD_test_pth = os.path.join(GPD_pth, 'Data').replace(\"\\\\\",\"/\")"
   ]
  },
  {
   "cell_type": "markdown",
   "metadata": {},
   "source": [
    "## Preparation of RIAA"
   ]
  },
  {
   "cell_type": "code",
   "execution_count": null,
   "metadata": {
    "scrolled": true
   },
   "outputs": [],
   "source": [
    "#import splitfolders\n",
    "#splitfolders.ratio(os.path.join(RIAA_pth, 'Resized_Cropped_224').replace(\"\\\\\",\"/\"), output=os.path.join(RIAA_pth, 'Data_Split_Resized_Cropped_224'), seed=1337, ratio=(.8, 0.1,0.1)) "
   ]
  },
  {
   "cell_type": "code",
   "execution_count": null,
   "metadata": {},
   "outputs": [],
   "source": [
    "datagen = ImageDataGenerator(rescale = 1./255, horizontal_flip=True)\n",
    "datagen_test = ImageDataGenerator(rescale = 1./255)"
   ]
  },
  {
   "cell_type": "markdown",
   "metadata": {},
   "source": [
    "## Modeling"
   ]
  },
  {
   "cell_type": "code",
   "execution_count": null,
   "metadata": {},
   "outputs": [],
   "source": [
    "#EarlyStop\n",
    "callback_earlystop = tf.keras.callbacks.EarlyStopping(monitor='val_accuracy', patience=20, restore_best_weights=True)"
   ]
  },
  {
   "cell_type": "code",
   "execution_count": null,
   "metadata": {},
   "outputs": [],
   "source": [
    "seed_value = 42"
   ]
  },
  {
   "cell_type": "markdown",
   "metadata": {},
   "source": [
    "### VGG16 Base Model"
   ]
  },
  {
   "cell_type": "code",
   "execution_count": null,
   "metadata": {},
   "outputs": [],
   "source": [
    "image_size=224"
   ]
  },
  {
   "cell_type": "code",
   "execution_count": null,
   "metadata": {},
   "outputs": [],
   "source": [
    "# load and iterate dataset\n",
    "train_data = datagen.flow_from_directory(RIAA_224_binary_warped_train_pth, class_mode='binary', target_size=(image_size, image_size),batch_size=32, shuffle=True, seed=seed_value)\n",
    "val_data = datagen_test.flow_from_directory(RIAA_224_binary_warped_val_pth, class_mode='binary',target_size=(image_size, image_size),batch_size=32, shuffle=False, seed=seed_value )\n",
    "test_data = datagen_test.flow_from_directory(RIAA_224_binary_warped_test_pth, class_mode='binary', target_size=(image_size, image_size),batch_size=32, shuffle=False, seed=seed_value )"
   ]
  },
  {
   "cell_type": "code",
   "execution_count": null,
   "metadata": {},
   "outputs": [],
   "source": [
    "vgg16_obj = VGG16(include_top = False, weights=None,input_shape = (224,224,3))    #  include_top = False is used to skip the layer from flattern\n",
    "#for layer in vgg16_obj.layers:             # Off the training of the trainable parameters\n",
    "#    layer.trainable = False\n",
    "vgg16_obj.summary()"
   ]
  },
  {
   "cell_type": "code",
   "execution_count": null,
   "metadata": {
    "scrolled": true
   },
   "outputs": [],
   "source": [
    "vgg16_obj.output"
   ]
  },
  {
   "cell_type": "code",
   "execution_count": null,
   "metadata": {},
   "outputs": [],
   "source": [
    "num_classes=2\n",
    "image_size=224"
   ]
  },
  {
   "cell_type": "code",
   "execution_count": null,
   "metadata": {},
   "outputs": [],
   "source": [
    "last_layer = vgg16_obj.get_layer('block5_pool')\n",
    "last_output = vgg16_obj.output\n",
    "\n",
    "x = Flatten()(last_output)\n",
    "x = tf.keras.layers.Dense(4096, activation='relu')(x) #, kernel_initializer=tf.keras.initializers.glorot_normal(seed=seed_value),\n",
    "                 # bias_initializer=tf.keras.initializers.Zeros()\n",
    "#x = tf.keras.layers.Dropout(0.2)(x)\n",
    "x = tf.keras.layers.Dense(4096, activation='relu')(x)\n",
    "#x = tf.keras.layers.Dropout(0.2)(x)\n",
    "x = tf.keras.layers.Dense(1, activation='sigmoid')(x)"
   ]
  },
  {
   "cell_type": "code",
   "execution_count": null,
   "metadata": {},
   "outputs": [],
   "source": [
    "#Merge\n",
    "model = tf.keras.Model(vgg16_obj.input, x)"
   ]
  },
  {
   "cell_type": "code",
   "execution_count": null,
   "metadata": {},
   "outputs": [],
   "source": [
    "model.summary()"
   ]
  },
  {
   "cell_type": "code",
   "execution_count": null,
   "metadata": {},
   "outputs": [],
   "source": [
    "model.compile(optimizer=tf.keras.optimizers.SGD(learning_rate=1e-3, momentum=0.9,\n",
    "    nesterov=True),loss='binary_crossentropy', metrics=['accuracy'])"
   ]
  },
  {
   "cell_type": "code",
   "execution_count": null,
   "metadata": {},
   "outputs": [],
   "source": [
    "checkpoint_model_dir=  os.path.join(checkpoint_dir, 'vanilla_vgg16_base_model-{epoch:03d}-{accuracy:.3f}-{val_accuracy:.3f}.h5').replace(\"\\\\\",\"/\")"
   ]
  },
  {
   "cell_type": "code",
   "execution_count": null,
   "metadata": {},
   "outputs": [],
   "source": [
    "checkpoint_callback = tf.keras.callbacks.ModelCheckpoint(\n",
    "    filepath=checkpoint_model_dir,\n",
    "    save_weights_only=False,\n",
    "    monitor='val_accuracy',\n",
    "    mode='max',\n",
    "    save_best_only=True)"
   ]
  },
  {
   "cell_type": "code",
   "execution_count": null,
   "metadata": {},
   "outputs": [],
   "source": [
    "start_time = time.time()"
   ]
  },
  {
   "cell_type": "code",
   "execution_count": null,
   "metadata": {},
   "outputs": [],
   "source": [
    "vgg_classifier = model.fit(train_data, validation_data=val_data, verbose=1,  callbacks=[callback_earlystop, checkpoint_callback], epochs=1000)"
   ]
  },
  {
   "cell_type": "code",
   "execution_count": null,
   "metadata": {},
   "outputs": [],
   "source": [
    "stop_time = time.time()\n",
    "time_delta=stop_time - start_time\n",
    "print(\"--- %s seconds ---\" % (stop_time - start_time))\n",
    "str(datetime.timedelta(seconds=time_delta))\n",
    "\n"
   ]
  },
  {
   "cell_type": "code",
   "execution_count": null,
   "metadata": {},
   "outputs": [],
   "source": [
    "#save model history\n",
    "df_history =pd.DataFrame(vgg_classifier.history)\n",
    "model_history_dir=  os.path.join(df_model_histor_dir, 'df_history_vanilla_vgg16_base_model.csv').replace(\"\\\\\",\"/\")\n",
    "df_history.to_csv(model_history_dir)"
   ]
  },
  {
   "cell_type": "code",
   "execution_count": null,
   "metadata": {},
   "outputs": [],
   "source": [
    "plt.plot(vgg_classifier.history['accuracy'])\n",
    "plt.plot(vgg_classifier.history['val_accuracy'])\n",
    "plt.legend(['train', 'val'], loc='upper left')\n",
    "plt.title('model accuracy')\n",
    "plt.ylabel('accuracy')\n",
    "plt.xlabel('epoch')"
   ]
  },
  {
   "cell_type": "code",
   "execution_count": null,
   "metadata": {},
   "outputs": [],
   "source": [
    "plt.plot(vgg_classifier.history['loss'])\n",
    "plt.plot(vgg_classifier.history['val_loss'])\n",
    "plt.legend(['train', 'val'], loc='upper left')\n",
    "plt.title('model loss')\n",
    "plt.ylabel('loss')\n",
    "plt.xlabel('epoch')"
   ]
  },
  {
   "cell_type": "code",
   "execution_count": null,
   "metadata": {
    "scrolled": true
   },
   "outputs": [],
   "source": [
    "model.evaluate(test_data)"
   ]
  },
  {
   "cell_type": "code",
   "execution_count": null,
   "metadata": {},
   "outputs": [],
   "source": [
    "pred = model.predict(test_data)\n",
    "pd.DataFrame(classification_report(test_data.classes, pred > 0.5, output_dict=True))"
   ]
  },
  {
   "cell_type": "code",
   "execution_count": null,
   "metadata": {},
   "outputs": [],
   "source": [
    "true_classes = test_data.classes"
   ]
  },
  {
   "cell_type": "code",
   "execution_count": null,
   "metadata": {},
   "outputs": [],
   "source": [
    "reality = [0 if x > 0.5 else 1 for x in true_classes]\n",
    "#reality"
   ]
  },
  {
   "cell_type": "code",
   "execution_count": null,
   "metadata": {},
   "outputs": [],
   "source": [
    "predictions = [0 if x > 0.5 else 1 for x in pred]\n",
    "#predictions"
   ]
  },
  {
   "cell_type": "code",
   "execution_count": null,
   "metadata": {},
   "outputs": [],
   "source": [
    "accuracy = accuracy_score(reality, predictions)\n",
    "print(\"Test Accuracy:\", accuracy)"
   ]
  },
  {
   "cell_type": "code",
   "execution_count": null,
   "metadata": {},
   "outputs": [],
   "source": [
    "predicted_classes = pred.round() \n",
    "class_labels = list(test_data.class_indices.keys())"
   ]
  },
  {
   "cell_type": "code",
   "execution_count": null,
   "metadata": {},
   "outputs": [],
   "source": [
    "report = classification_report(true_classes, predicted_classes, target_names=class_labels, digits=4)\n",
    "print(report)"
   ]
  },
  {
   "cell_type": "code",
   "execution_count": null,
   "metadata": {},
   "outputs": [],
   "source": [
    "cm = confusion_matrix(true_classes, predicted_classes)"
   ]
  },
  {
   "cell_type": "code",
   "execution_count": null,
   "metadata": {
    "scrolled": true
   },
   "outputs": [],
   "source": [
    "sns.heatmap(cm, annot= True, xticklabels = ['Pred: 0_Unaesthetic', 'Pred: 1_Aesthetic'],\n",
    "           yticklabels = ['True: 0_Unaesthetic', 'True: 1_Aesthetic'], cmap='Blues', fmt='g').set_title('Evaluation VGG16 base model')"
   ]
  },
  {
   "cell_type": "markdown",
   "metadata": {},
   "source": [
    "### Resnet50"
   ]
  },
  {
   "cell_type": "code",
   "execution_count": null,
   "metadata": {},
   "outputs": [],
   "source": [
    "num_classes=2\n",
    "image_size=224"
   ]
  },
  {
   "cell_type": "code",
   "execution_count": null,
   "metadata": {},
   "outputs": [],
   "source": [
    "# load and iterate dataset\n",
    "train_data = datagen.flow_from_directory(RIAA_224_binary_warped_train_pth, class_mode='binary', target_size=(image_size, image_size),batch_size=32, shuffle=True, seed=seed_value)\n",
    "val_data = datagen_test.flow_from_directory(RIAA_224_binary_warped_val_pth, class_mode='binary',target_size=(image_size, image_size),batch_size=32, shuffle=False, seed=seed_value )\n",
    "test_data = datagen_test.flow_from_directory(RIAA_224_binary_warped_test_pth, class_mode='binary', target_size=(image_size, image_size),batch_size=32, shuffle=False, seed=seed_value )"
   ]
  },
  {
   "cell_type": "code",
   "execution_count": null,
   "metadata": {},
   "outputs": [],
   "source": [
    "resnet50_obj = ResNet50(include_top = False, weights=None,input_shape = (224,224,3))    #  include_top = False is used to skip the layer from flattern\n",
    "#for layer in resnet50_obj.layers:             # Off the training of the trainable parameters\n",
    "#    layer.trainable = False\n",
    "resnet50_obj.summary()"
   ]
  },
  {
   "cell_type": "code",
   "execution_count": null,
   "metadata": {},
   "outputs": [],
   "source": [
    "resnet50_obj.output"
   ]
  },
  {
   "cell_type": "code",
   "execution_count": null,
   "metadata": {},
   "outputs": [],
   "source": [
    "last_layer = resnet50_obj.get_layer('conv5_block3_out')\n",
    "last_output = resnet50_obj.output\n",
    "\n",
    "x = tf.keras.layers.GlobalAveragePooling2D()(last_output)\n",
    "#x = tf.keras.layers.Dropout(0.2)(x)\n",
    "x = tf.keras.layers.Dense(1, activation='sigmoid')(x)"
   ]
  },
  {
   "cell_type": "code",
   "execution_count": null,
   "metadata": {},
   "outputs": [],
   "source": [
    "#Merge\n",
    "model = tf.keras.Model(resnet50_obj.input, x)"
   ]
  },
  {
   "cell_type": "code",
   "execution_count": null,
   "metadata": {},
   "outputs": [],
   "source": [
    "model.summary()"
   ]
  },
  {
   "cell_type": "code",
   "execution_count": null,
   "metadata": {},
   "outputs": [],
   "source": [
    "checkpoint_model_dir=  os.path.join(checkpoint_dir, 'vanilla_Resnet50_base_model-{epoch:03d}-{accuracy:.3f}-{val_accuracy:.3f}.h5').replace(\"\\\\\",\"/\")"
   ]
  },
  {
   "cell_type": "code",
   "execution_count": null,
   "metadata": {},
   "outputs": [],
   "source": [
    "checkpoint_callback = tf.keras.callbacks.ModelCheckpoint(\n",
    "    filepath=checkpoint_model_dir,\n",
    "    save_weights_only=False,\n",
    "    monitor='val_accuracy',\n",
    "    mode='max',\n",
    "    save_best_only=True)"
   ]
  },
  {
   "cell_type": "code",
   "execution_count": null,
   "metadata": {},
   "outputs": [],
   "source": [
    "#EarlyStop\n",
    "callback_earlystop = tf.keras.callbacks.EarlyStopping(monitor='val_accuracy', patience=20, restore_best_weights=True)"
   ]
  },
  {
   "cell_type": "code",
   "execution_count": null,
   "metadata": {},
   "outputs": [],
   "source": [
    "model.compile(optimizer=tf.keras.optimizers.SGD(learning_rate=1e-3, momentum=0.9,\n",
    "    nesterov=True),loss='binary_crossentropy', metrics=['accuracy'])"
   ]
  },
  {
   "cell_type": "code",
   "execution_count": null,
   "metadata": {},
   "outputs": [],
   "source": [
    "start_time = time.time()"
   ]
  },
  {
   "cell_type": "code",
   "execution_count": null,
   "metadata": {},
   "outputs": [],
   "source": [
    "resnet50_classifier = model.fit(train_data, validation_data=val_data, verbose=1,  callbacks=[callback_earlystop, checkpoint_callback ], epochs=1000)"
   ]
  },
  {
   "cell_type": "code",
   "execution_count": null,
   "metadata": {},
   "outputs": [],
   "source": [
    "stop_time = time.time()\n",
    "time_delta=stop_time - start_time\n",
    "print(\"--- %s seconds ---\" % (stop_time - start_time))\n",
    "str(datetime.timedelta(seconds=time_delta))\n"
   ]
  },
  {
   "cell_type": "code",
   "execution_count": null,
   "metadata": {},
   "outputs": [],
   "source": [
    "#save model history\n",
    "df_history =pd.DataFrame(resnet50_classifier.history)\n",
    "model_history_dir=  os.path.join(df_model_histor_dir, 'df_history_vanilla_resnet50_base_model.csv').replace(\"\\\\\",\"/\")\n",
    "df_history.to_csv(model_history_dir)"
   ]
  },
  {
   "cell_type": "code",
   "execution_count": null,
   "metadata": {},
   "outputs": [],
   "source": [
    "plt.plot(resnet50_classifier.history['val_accuracy'])\n",
    "plt.plot(resnet50_classifier.history['accuracy'])\n",
    "plt.legend(['val','train'], loc='upper left')\n",
    "plt.title('model accuracy')\n",
    "plt.ylabel('accuracy')\n",
    "plt.xlabel('epoch')\n",
    "\n"
   ]
  },
  {
   "cell_type": "code",
   "execution_count": null,
   "metadata": {},
   "outputs": [],
   "source": [
    "plt.plot(resnet50_classifier.history['val_loss'])\n",
    "plt.plot(resnet50_classifier.history['loss'])\n",
    "plt.legend(['val','train'], loc='upper left')\n",
    "plt.title('model loss')\n",
    "plt.ylabel('loss')\n",
    "plt.xlabel('epoch')"
   ]
  },
  {
   "cell_type": "code",
   "execution_count": null,
   "metadata": {},
   "outputs": [],
   "source": [
    "model.evaluate(test_data)"
   ]
  },
  {
   "cell_type": "code",
   "execution_count": null,
   "metadata": {},
   "outputs": [],
   "source": [
    "pred = model.predict(test_data)\n",
    "pd.DataFrame(classification_report(test_data.classes, pred > 0.5, output_dict=True))"
   ]
  },
  {
   "cell_type": "code",
   "execution_count": null,
   "metadata": {},
   "outputs": [],
   "source": [
    "true_classes = test_data.classes"
   ]
  },
  {
   "cell_type": "code",
   "execution_count": null,
   "metadata": {},
   "outputs": [],
   "source": [
    "reality = [0 if x > 0.5 else 1 for x in true_classes]\n",
    "#reality\n",
    "predictions = [0 if x > 0.5 else 1 for x in pred]\n",
    "#predictions"
   ]
  },
  {
   "cell_type": "code",
   "execution_count": null,
   "metadata": {},
   "outputs": [],
   "source": [
    "accuracy = accuracy_score(reality, predictions)\n",
    "print(\"Test Accuracy:\", accuracy)"
   ]
  },
  {
   "cell_type": "code",
   "execution_count": null,
   "metadata": {},
   "outputs": [],
   "source": [
    "predicted_classes = pred.round() #round_pred#np.argmax(round_pred, axis=1)\n",
    "#true_classes = test_data.classes\n",
    "class_labels = list(test_data.class_indices.keys())"
   ]
  },
  {
   "cell_type": "code",
   "execution_count": null,
   "metadata": {},
   "outputs": [],
   "source": [
    "report = classification_report(true_classes, predicted_classes, target_names=class_labels, digits=4)\n",
    "print(report)"
   ]
  },
  {
   "cell_type": "code",
   "execution_count": null,
   "metadata": {},
   "outputs": [],
   "source": [
    "cm = confusion_matrix(true_classes, predicted_classes)"
   ]
  },
  {
   "cell_type": "code",
   "execution_count": null,
   "metadata": {},
   "outputs": [],
   "source": [
    "sns.heatmap(cm, annot= True, xticklabels = ['Pred: 0_Unaesthetic', 'Pred: 1_Aesthetic'],\n",
    "           yticklabels = ['True: 0_Unaesthetic', 'True: 1_Aesthetic'], cmap='Blues', fmt='g').set_title('Evaluation ResNet50 base model')"
   ]
  },
  {
   "cell_type": "markdown",
   "metadata": {},
   "source": [
    "### Inception v3"
   ]
  },
  {
   "cell_type": "code",
   "execution_count": null,
   "metadata": {},
   "outputs": [],
   "source": [
    "image_size=299"
   ]
  },
  {
   "cell_type": "code",
   "execution_count": null,
   "metadata": {},
   "outputs": [],
   "source": [
    "datagen = ImageDataGenerator(rescale = 1./255, horizontal_flip=True)"
   ]
  },
  {
   "cell_type": "code",
   "execution_count": null,
   "metadata": {},
   "outputs": [],
   "source": [
    "# load and iterate dataset\n",
    "train_data = datagen.flow_from_directory(RIAA_299_binary_warped_train_pth, class_mode='binary', target_size=(image_size, image_size),batch_size=32, shuffle=True, seed=seed_value)\n",
    "val_data = datagen_test.flow_from_directory(RIAA_299_binary_warped_val_pth, class_mode='binary',target_size=(image_size, image_size),batch_size=32, shuffle=False, seed=seed_value )\n",
    "test_data = datagen_test.flow_from_directory(RIAA_299_binary_warped_test_pth, class_mode='binary', target_size=(image_size, image_size),batch_size=32, shuffle=False, seed=seed_value )"
   ]
  },
  {
   "cell_type": "code",
   "execution_count": null,
   "metadata": {},
   "outputs": [],
   "source": [
    "inceptionv3_obj = InceptionV3(include_top = False, input_shape = (299,299,3), weights=None)    #  include_top = False is used to skip the layer from flattern\n",
    "inceptionv3_obj.summary()"
   ]
  },
  {
   "cell_type": "code",
   "execution_count": null,
   "metadata": {},
   "outputs": [],
   "source": [
    "inceptionv3_obj.output"
   ]
  },
  {
   "cell_type": "code",
   "execution_count": null,
   "metadata": {},
   "outputs": [],
   "source": [
    "last_layer = inceptionv3_obj.get_layer('mixed10')\n",
    "last_output = inceptionv3_obj.output\n",
    "\n",
    "x = tf.keras.layers.GlobalAveragePooling2D()(last_output)\n",
    "x = tf.keras.layers.Dense(1, activation='sigmoid')(x)"
   ]
  },
  {
   "cell_type": "code",
   "execution_count": null,
   "metadata": {},
   "outputs": [],
   "source": [
    "#Merge\n",
    "model = tf.keras.Model(inceptionv3_obj.input, x)"
   ]
  },
  {
   "cell_type": "code",
   "execution_count": null,
   "metadata": {},
   "outputs": [],
   "source": [
    "model.summary()"
   ]
  },
  {
   "cell_type": "code",
   "execution_count": null,
   "metadata": {},
   "outputs": [],
   "source": [
    "checkpoint_model_dir=  os.path.join(checkpoint_dir, 'vanilla_InceptionV3_base_model-{epoch:03d}-{accuracy:.3f}-{val_accuracy:.3f}.h5').replace(\"\\\\\",\"/\")"
   ]
  },
  {
   "cell_type": "code",
   "execution_count": null,
   "metadata": {},
   "outputs": [],
   "source": [
    "checkpoint_callback = tf.keras.callbacks.ModelCheckpoint(\n",
    "    filepath=checkpoint_model_dir,\n",
    "    save_weights_only=False,\n",
    "    monitor='val_accuracy',\n",
    "    mode='max',\n",
    "    save_best_only=True)"
   ]
  },
  {
   "cell_type": "code",
   "execution_count": null,
   "metadata": {},
   "outputs": [],
   "source": [
    "#EarlyStop\n",
    "callback_earlystop = tf.keras.callbacks.EarlyStopping(monitor='val_accuracy', patience=20, restore_best_weights=True)"
   ]
  },
  {
   "cell_type": "code",
   "execution_count": null,
   "metadata": {},
   "outputs": [],
   "source": [
    "model.compile(optimizer=tf.keras.optimizers.SGD(learning_rate=1e-3, momentum=0.9,\n",
    "    nesterov=True),loss='binary_crossentropy', metrics=['accuracy'])"
   ]
  },
  {
   "cell_type": "code",
   "execution_count": null,
   "metadata": {},
   "outputs": [],
   "source": [
    "start_time = time.time()"
   ]
  },
  {
   "cell_type": "code",
   "execution_count": null,
   "metadata": {
    "scrolled": true
   },
   "outputs": [],
   "source": [
    "inceptionv3_classifier = model.fit(train_data, validation_data=val_data, verbose=1,  callbacks=[callback_earlystop, checkpoint_callback ], epochs=1000) "
   ]
  },
  {
   "cell_type": "code",
   "execution_count": null,
   "metadata": {},
   "outputs": [],
   "source": [
    "stop_time = time.time()\n",
    "time_delta=stop_time - start_time\n",
    "print(\"--- %s seconds ---\" % (stop_time - start_time))\n",
    "str(datetime.timedelta(seconds=time_delta))\n"
   ]
  },
  {
   "cell_type": "code",
   "execution_count": null,
   "metadata": {},
   "outputs": [],
   "source": [
    "#save model history\n",
    "df_history =pd.DataFrame(inceptionv3_classifier.history)\n",
    "model_history_dir=  os.path.join(df_model_histor_dir, 'vanilla_inceptionv3_classifier_base_model.csv').replace(\"\\\\\",\"/\")\n",
    "df_history.to_csv(model_history_dir)"
   ]
  },
  {
   "cell_type": "code",
   "execution_count": null,
   "metadata": {},
   "outputs": [],
   "source": [
    "plt.plot(inceptionv3_classifier.history['val_accuracy'])\n",
    "plt.plot(inceptionv3_classifier.history['accuracy'])\n",
    "plt.legend(['val','train'], loc='upper left')\n",
    "plt.title('model accuracy')\n",
    "plt.ylabel('accuracy')\n",
    "plt.xlabel('epoch')"
   ]
  },
  {
   "cell_type": "code",
   "execution_count": null,
   "metadata": {},
   "outputs": [],
   "source": [
    "plt.plot(inceptionv3_classifier.history['val_loss'])\n",
    "plt.plot(inceptionv3_classifier.history['loss'])\n",
    "plt.legend(['val','train'], loc='upper left')\n",
    "plt.title('model loss')\n",
    "plt.ylabel('loss')\n",
    "plt.xlabel('epoch')"
   ]
  },
  {
   "cell_type": "code",
   "execution_count": null,
   "metadata": {},
   "outputs": [],
   "source": [
    "model.evaluate(test_data)"
   ]
  },
  {
   "cell_type": "code",
   "execution_count": null,
   "metadata": {},
   "outputs": [],
   "source": [
    "pred = model.predict(test_data)\n",
    "pd.DataFrame(classification_report(test_data.classes, pred > 0.5, output_dict=True))"
   ]
  },
  {
   "cell_type": "code",
   "execution_count": null,
   "metadata": {},
   "outputs": [],
   "source": [
    "true_classes = test_data.classes"
   ]
  },
  {
   "cell_type": "code",
   "execution_count": null,
   "metadata": {},
   "outputs": [],
   "source": [
    "reality = [0 if x > 0.5 else 1 for x in true_classes]\n",
    "#reality\n",
    "predictions = [0 if x > 0.5 else 1 for x in pred]\n",
    "#predictions"
   ]
  },
  {
   "cell_type": "code",
   "execution_count": null,
   "metadata": {},
   "outputs": [],
   "source": [
    "accuracy = accuracy_score(reality, predictions)\n",
    "print(\"Test Accuracy:\", accuracy)"
   ]
  },
  {
   "cell_type": "code",
   "execution_count": null,
   "metadata": {},
   "outputs": [],
   "source": [
    "predicted_classes = pred.round()\n",
    "class_labels = list(test_data.class_indices.keys())"
   ]
  },
  {
   "cell_type": "code",
   "execution_count": null,
   "metadata": {},
   "outputs": [],
   "source": [
    "report = classification_report(true_classes, predicted_classes, target_names=class_labels, digits=4)\n",
    "print(report)"
   ]
  },
  {
   "cell_type": "code",
   "execution_count": null,
   "metadata": {},
   "outputs": [],
   "source": [
    "cm = confusion_matrix(true_classes, predicted_classes)"
   ]
  },
  {
   "cell_type": "code",
   "execution_count": null,
   "metadata": {
    "scrolled": true
   },
   "outputs": [],
   "source": [
    "sns.heatmap(cm, annot= True, xticklabels = ['Pred: 0_Unaesthetic', 'Pred: 1_Aesthetic'],\n",
    "            \n",
    "           yticklabels = ['True: 0_Unaesthetic', 'True: 1_Aesthetic'], cmap='Blues', fmt='g').set_title('Evaluation Inceptionv3 base model')"
   ]
  },
  {
   "cell_type": "markdown",
   "metadata": {},
   "source": [
    "### Xception"
   ]
  },
  {
   "cell_type": "code",
   "execution_count": null,
   "metadata": {},
   "outputs": [],
   "source": [
    "datagen = ImageDataGenerator(rescale = 1./255, horizontal_flip=True)"
   ]
  },
  {
   "cell_type": "code",
   "execution_count": null,
   "metadata": {},
   "outputs": [],
   "source": [
    "# load and iterate dataset\n",
    "train_data = datagen.flow_from_directory(RIAA_299_binary_warped_train_pth, class_mode='binary', target_size=(image_size, image_size),batch_size=32, shuffle=True, seed=seed_value)\n",
    "val_data = datagen_test.flow_from_directory(RIAA_299_binary_warped_val_pth, class_mode='binary',target_size=(image_size, image_size),batch_size=32, shuffle=False, seed=seed_value )\n",
    "test_data = datagen_test.flow_from_directory(RIAA_299_binary_warped_test_pth, class_mode='binary', target_size=(image_size, image_size),batch_size=32, shuffle=False, seed=seed_value )"
   ]
  },
  {
   "cell_type": "code",
   "execution_count": null,
   "metadata": {},
   "outputs": [],
   "source": [
    "Xception_obj = Xception(include_top = False, input_shape = (299,299,3), weights=None)    #  include_top = False is used to skip the layer from flattern\n",
    "Xception_obj.summary()"
   ]
  },
  {
   "cell_type": "code",
   "execution_count": null,
   "metadata": {},
   "outputs": [],
   "source": [
    "Xception_obj.output"
   ]
  },
  {
   "cell_type": "code",
   "execution_count": null,
   "metadata": {},
   "outputs": [],
   "source": [
    "last_layer = Xception_obj.get_layer('block14_sepconv2_act')\n",
    "last_output = Xception_obj.output\n",
    "\n",
    "x = tf.keras.layers.GlobalAveragePooling2D()(last_output)\n",
    "x = tf.keras.layers.Dense(1, activation='sigmoid')(x)"
   ]
  },
  {
   "cell_type": "code",
   "execution_count": null,
   "metadata": {},
   "outputs": [],
   "source": [
    "#Merge\n",
    "model = tf.keras.Model(Xception_obj.input, x)"
   ]
  },
  {
   "cell_type": "code",
   "execution_count": null,
   "metadata": {},
   "outputs": [],
   "source": [
    "model.summary()"
   ]
  },
  {
   "cell_type": "code",
   "execution_count": null,
   "metadata": {},
   "outputs": [],
   "source": [
    "checkpoint_model_dir=  os.path.join(checkpoint_dir, 'vanilla_Xception_base_model-{epoch:03d}-{accuracy:.3f}-{val_accuracy:.3f}.h5').replace(\"\\\\\",\"/\")"
   ]
  },
  {
   "cell_type": "code",
   "execution_count": null,
   "metadata": {},
   "outputs": [],
   "source": [
    "checkpoint_callback = tf.keras.callbacks.ModelCheckpoint(\n",
    "    filepath=checkpoint_model_dir,\n",
    "    save_weights_only=False,\n",
    "    monitor='val_accuracy',\n",
    "    mode='max',\n",
    "    save_best_only=True)"
   ]
  },
  {
   "cell_type": "code",
   "execution_count": null,
   "metadata": {},
   "outputs": [],
   "source": [
    "#EarlyStop\n",
    "callback_earlystop = tf.keras.callbacks.EarlyStopping(monitor='val_accuracy', patience=20, restore_best_weights=True)"
   ]
  },
  {
   "cell_type": "code",
   "execution_count": null,
   "metadata": {},
   "outputs": [],
   "source": [
    "model.compile(optimizer=tf.keras.optimizers.SGD(learning_rate=1e-3, momentum=0.9,\n",
    "    nesterov=True),loss='binary_crossentropy', metrics=['accuracy'])"
   ]
  },
  {
   "cell_type": "code",
   "execution_count": null,
   "metadata": {},
   "outputs": [],
   "source": [
    "start_time = time.time()"
   ]
  },
  {
   "cell_type": "code",
   "execution_count": null,
   "metadata": {},
   "outputs": [],
   "source": [
    "xception_classifier = model.fit(train_data, validation_data=val_data, verbose=1,  callbacks=[callback_earlystop, checkpoint_callback ], epochs=1000) "
   ]
  },
  {
   "cell_type": "code",
   "execution_count": null,
   "metadata": {},
   "outputs": [],
   "source": [
    "stop_time = time.time()\n",
    "time_delta=stop_time - start_time\n",
    "print(\"--- %s seconds ---\" % (stop_time - start_time))\n",
    "str(datetime.timedelta(seconds=time_delta))\n"
   ]
  },
  {
   "cell_type": "code",
   "execution_count": null,
   "metadata": {},
   "outputs": [],
   "source": [
    "#save model history\n",
    "df_history =pd.DataFrame(xception_classifier.history)\n",
    "model_history_dir=  os.path.join(df_model_histor_dir, 'xception_classifier_base_model.csv').replace(\"\\\\\",\"/\")\n",
    "df_history.to_csv(model_history_dir)"
   ]
  },
  {
   "cell_type": "code",
   "execution_count": null,
   "metadata": {},
   "outputs": [],
   "source": [
    "plt.plot(xception_classifier.history['val_accuracy'])\n",
    "plt.plot(xception_classifier.history['accuracy'])\n",
    "plt.legend(['val','train'], loc='upper left')\n",
    "plt.title('model accuracy')\n",
    "plt.ylabel('accuracy')\n",
    "plt.xlabel('epoch')"
   ]
  },
  {
   "cell_type": "code",
   "execution_count": null,
   "metadata": {},
   "outputs": [],
   "source": [
    "plt.plot(xception_classifier.history['val_loss'])\n",
    "plt.plot(xception_classifier.history['loss'])\n",
    "plt.legend(['val','train'], loc='upper left')\n",
    "plt.title('model loss')\n",
    "plt.ylabel('loss')\n",
    "plt.xlabel('epoch')"
   ]
  },
  {
   "cell_type": "code",
   "execution_count": null,
   "metadata": {},
   "outputs": [],
   "source": [
    "model.evaluate(test_data)"
   ]
  },
  {
   "cell_type": "code",
   "execution_count": null,
   "metadata": {},
   "outputs": [],
   "source": [
    "pred = model.predict(test_data)\n",
    "pd.DataFrame(classification_report(test_data.classes, pred > 0.5, output_dict=True))"
   ]
  },
  {
   "cell_type": "code",
   "execution_count": null,
   "metadata": {},
   "outputs": [],
   "source": [
    "true_classes = test_data.classes"
   ]
  },
  {
   "cell_type": "code",
   "execution_count": null,
   "metadata": {},
   "outputs": [],
   "source": [
    "reality = [0 if x > 0.5 else 1 for x in true_classes]\n",
    "#reality\n",
    "predictions = [0 if x > 0.5 else 1 for x in pred]\n",
    "#predictions"
   ]
  },
  {
   "cell_type": "code",
   "execution_count": null,
   "metadata": {},
   "outputs": [],
   "source": [
    "accuracy = accuracy_score(reality, predictions)\n",
    "print(\"Test Accuracy:\", accuracy)"
   ]
  },
  {
   "cell_type": "code",
   "execution_count": null,
   "metadata": {},
   "outputs": [],
   "source": [
    "predicted_classes = pred.round()\n",
    "class_labels = list(test_data.class_indices.keys())"
   ]
  },
  {
   "cell_type": "code",
   "execution_count": null,
   "metadata": {},
   "outputs": [],
   "source": [
    "report = classification_report(true_classes, predicted_classes, target_names=class_labels, digits=4)\n",
    "print(report)"
   ]
  },
  {
   "cell_type": "code",
   "execution_count": null,
   "metadata": {},
   "outputs": [],
   "source": [
    "cm = confusion_matrix(true_classes, predicted_classes)"
   ]
  },
  {
   "cell_type": "code",
   "execution_count": null,
   "metadata": {},
   "outputs": [],
   "source": [
    "sns.heatmap(cm, annot= True, xticklabels = ['Pred: 0_Unaesthetic', 'Pred: 1_Aesthetic'],\n",
    "            \n",
    "           yticklabels = ['True: 0_Unaesthetic', 'True: 1_Aesthetic'], cmap='Blues', fmt='g').set_title('Evaluation Xception base model')"
   ]
  },
  {
   "cell_type": "markdown",
   "metadata": {},
   "source": [
    "### Plot classified images"
   ]
  },
  {
   "cell_type": "code",
   "execution_count": null,
   "metadata": {},
   "outputs": [],
   "source": [
    "pred = model_inceptionv3.predict(test_data)"
   ]
  },
  {
   "cell_type": "code",
   "execution_count": null,
   "metadata": {},
   "outputs": [],
   "source": [
    "right_pred_list= []\n",
    "wrong_pred_list= []\n",
    "classes=list(test_data.class_indices.keys())"
   ]
  },
  {
   "cell_type": "code",
   "execution_count": null,
   "metadata": {},
   "outputs": [],
   "source": [
    "for i in range(1809):\n",
    "    if int(pred[i].round())==test_data.classes[i]:\n",
    "        right_pred_list.append(i)   \n",
    "    else:\n",
    "        wrong_pred_list.append(i)"
   ]
  },
  {
   "cell_type": "code",
   "execution_count": null,
   "metadata": {},
   "outputs": [],
   "source": [
    "import random\n",
    "random.shuffle(right_pred_list)\n",
    "random.shuffle(wrong_pred_list)"
   ]
  },
  {
   "cell_type": "code",
   "execution_count": null,
   "metadata": {},
   "outputs": [],
   "source": [
    "\n",
    "plt.figure(figsize=(20, 10))\n",
    "\n",
    "for i in range(12):\n",
    "    element= right_pred_list[i]\n",
    "    plt.subplot(3, 4, i + 1)\n",
    "    img_url=test_data.filenames[element]\n",
    "    full_img_pth = os.path.join(RIAA_pth, 'Data_Split_Binary_300', 'test', img_url).replace(\"\\\\\",\"/\")\n",
    "    title_text= classes[int(pred[element].round())]\n",
    "    #f'Pred: {int(pred[element].round())}, True: {test_data.classes[element]}'\n",
    "    \n",
    "    if int(pred[element].round())==test_data.classes[element]:\n",
    "        color='g'\n",
    "    else:\n",
    "        color='r'\n",
    "    \n",
    "    img = plt.imread(full_img_pth)\n",
    "    plt.imshow(img, cmap='jet')\n",
    "    plt.title(title_text, color=color) \n",
    "    plt.axis('off')\n",
    "    \n",
    "plt.tight_layout()"
   ]
  },
  {
   "cell_type": "code",
   "execution_count": null,
   "metadata": {
    "scrolled": true
   },
   "outputs": [],
   "source": [
    "plt.figure(figsize=(20, 10))\n",
    "\n",
    "for i in range(12):\n",
    "    element= wrong_pred_list[i]\n",
    "    plt.subplot(3, 4, i + 1)\n",
    "    img_url=test_data.filenames[element]\n",
    "    full_img_pth = os.path.join(RIAA_pth, 'Data_Split_Binary_300', 'test', img_url).replace(\"\\\\\",\"/\")\n",
    "    title_text=f' Prediction: {classes[int(pred[element].round())]}'\n",
    "    #f'Pred: {int(pred[element].round())}, True: {test_data.classes[element]}'\n",
    "    \n",
    "    if int(pred[element].round())==test_data.classes[element]:\n",
    "        color='g'\n",
    "    else:\n",
    "        color='r'\n",
    "    \n",
    "    img = plt.imread(full_img_pth)\n",
    "    plt.imshow(img, cmap='jet')\n",
    "    plt.title(title_text, color=color) \n",
    "    plt.axis('off')\n",
    "    \n",
    "plt.tight_layout()"
   ]
  },
  {
   "cell_type": "code",
   "execution_count": null,
   "metadata": {},
   "outputs": [],
   "source": [
    "number=7\n",
    "specific_img_element=wrong_pred_list[number]\n",
    "img_url=test_data.filenames[specific_img_element]\n",
    "full_img_pth = os.path.join(RIAA_pth, 'Data_Split_Binary_300', 'test', img_url).replace(\"\\\\\",\"/\")"
   ]
  },
  {
   "cell_type": "code",
   "execution_count": null,
   "metadata": {},
   "outputs": [],
   "source": [
    "img = plt.imread(full_img_pth)\n",
    "plt.imshow(img, cmap='jet') \n",
    "pred_value_round=[ '%.4f' % elem for elem in pred[specific_img_element]]\n",
    "title_text= f'Prediction:  {100-(float(pred_value_round[0])* 100)} % for {classes[int(pred[element].round())]} \\n True class:  {classes[test_data.classes[element]]}                         .'\n",
    "#f'Prediction: {pred_value_round[0]}≈{int(pred[specific_img_element].round())}, True Class: {test_data.classes[specific_img_element]}'\n",
    "plt.title(title_text, color='black')\n",
    "plt.axis('off')"
   ]
  },
  {
   "cell_type": "code",
   "execution_count": null,
   "metadata": {},
   "outputs": [],
   "source": [
    "number=5\n",
    "specific_img_element=wrong_pred_list[number]\n",
    "img_url=test_data.filenames[specific_img_element]\n",
    "full_img_pth = os.path.join(RIAA_pth, 'Data_Split_Binary_300', 'test', img_url).replace(\"\\\\\",\"/\")"
   ]
  },
  {
   "cell_type": "code",
   "execution_count": null,
   "metadata": {
    "scrolled": true
   },
   "outputs": [],
   "source": [
    "img = plt.imread(full_img_pth)\n",
    "plt.imshow(img, cmap='jet') \n",
    "pred_value_round=[ '%.4f' % elem for elem in pred[specific_img_element]]\n",
    "title_text= f'Prediction:  {100-(float(pred_value_round[0])* 100)} % for {classes[int(pred[element].round())]} \\n True class:  {classes[test_data.classes[element]]}                        .'\n",
    "#f'Prediction: {pred_value_round[0]}≈{int(pred[specific_img_element].round())}, True Class: {test_data.classes[specific_img_element]}'\n",
    "plt.title(title_text, color='black')\n",
    "plt.axis('off')"
   ]
  },
  {
   "cell_type": "code",
   "execution_count": null,
   "metadata": {},
   "outputs": [],
   "source": [
    "number=11\n",
    "specific_img_element=wrong_pred_list[number]\n",
    "img_url=test_data.filenames[specific_img_element]\n",
    "full_img_pth = os.path.join(RIAA_pth, 'Data_Split_Binary_300', 'test', img_url).replace(\"\\\\\",\"/\")"
   ]
  },
  {
   "cell_type": "code",
   "execution_count": null,
   "metadata": {
    "scrolled": true
   },
   "outputs": [],
   "source": [
    "img = plt.imread(full_img_pth)\n",
    "plt.imshow(img, cmap='jet') \n",
    "pred_value_round=[ '%.4f' % elem for elem in pred[specific_img_element]]\n",
    "title_text= f'Prediction:  {100 - (float(pred_value_round[0]) *100)} % for {classes[int(pred[element].round())]} \\n    True class:  {classes[test_data.classes[element]]}                          .'\n",
    "#f'Prediction: {pred_value_round[0]}≈{int(pred[specific_img_element].round())}, True Class: {test_data.classes[specific_img_element]}'\n",
    "plt.title(title_text, color='black')\n",
    "plt.axis('off')"
   ]
  },
  {
   "cell_type": "code",
   "execution_count": null,
   "metadata": {},
   "outputs": [],
   "source": []
  },
  {
   "cell_type": "code",
   "execution_count": null,
   "metadata": {},
   "outputs": [],
   "source": []
  },
  {
   "cell_type": "code",
   "execution_count": null,
   "metadata": {},
   "outputs": [],
   "source": []
  },
  {
   "cell_type": "code",
   "execution_count": null,
   "metadata": {},
   "outputs": [],
   "source": []
  },
  {
   "cell_type": "markdown",
   "metadata": {},
   "source": [
    "### Test on boarderline images"
   ]
  },
  {
   "cell_type": "code",
   "execution_count": null,
   "metadata": {},
   "outputs": [],
   "source": [
    "RIAA_299_warped_boarderline_pth= os.path.join(r'.\\RIAA\\Data_Split_299\\train\\2_NotSure').replace(\"\\\\\",\"/\")"
   ]
  },
  {
   "cell_type": "code",
   "execution_count": null,
   "metadata": {},
   "outputs": [],
   "source": [
    "from keras.preprocessing import image\n",
    "#https://stackoverflow.com/questions/43469281/how-to-predict-input-image-using-trained-model-in-keras 05.12.2022\n",
    "\n",
    "def load_image(img_path, size):\n",
    "\n",
    "    img = image.load_img(img_path, target_size=(size,size))\n",
    "    img_tensor = image.img_to_array(img)                    # (height, width, channels)\n",
    "    img_tensor = np.expand_dims(img_tensor, axis=0)         # (1, height, width, channels), add a dimension because the model expects this shape: (batch_size, height, width, channels)\n",
    "    img_tensor /= 255.                                      # imshow expects values in the range [0, 1]\n",
    "\n",
    "    return img_tensor\n"
   ]
  },
  {
   "cell_type": "code",
   "execution_count": null,
   "metadata": {},
   "outputs": [],
   "source": [
    "from glob import glob\n",
    "\n",
    "path= os.path.join(RIAA_299_warped_boarderline_pth, '*').replace(\"\\\\\",\"/\")\n",
    "some_boarderline_images = glob(path, recursive = True)"
   ]
  },
  {
   "cell_type": "code",
   "execution_count": null,
   "metadata": {},
   "outputs": [],
   "source": [
    "plt.figure(figsize=(20, 10))\n",
    "\n",
    "#pred_value_round=[ '%.4f' % elem for elem in pred[0]]\n",
    "\n",
    "for i in range(12):\n",
    "    \n",
    "    plt.subplot(3, 4, i + 1)\n",
    "    img_url=some_boarderline_images[i]\n",
    "    #full_img_pth = os.path.join(RIAA_pth, 'Data_Split_Binary_299', 'test', img_url).replace(\"\\\\\",\"/\")\n",
    "    img_tensor= load_image(img_url,299)\n",
    "    pred = model.predict(img_tensor)\n",
    "    pred_value_round=[ '%.4f' % elem for elem in pred[0]]\n",
    "    title_text= f'Pred: {pred_value_round[0]}≈{int(pred[0].round())} '    \n",
    "    img = plt.imread(img_url)\n",
    "    plt.imshow(img, cmap='jet')\n",
    "    plt.title(title_text) \n",
    "    plt.axis('off')\n",
    "    \n",
    "plt.tight_layout()"
   ]
  },
  {
   "cell_type": "markdown",
   "metadata": {},
   "source": [
    "### Evaluation summary"
   ]
  },
  {
   "cell_type": "code",
   "execution_count": null,
   "metadata": {},
   "outputs": [],
   "source": [
    "#loading best models\n",
    "model_vgg16 = tf.keras.models.load_model(os.path.join(checkpoint_dir, 'vanilla_vgg16_base_model-027-0.788-0.807.h5').replace(\"\\\\\",\"/\"))\n",
    "model_resnet50 = tf.keras.models.load_model(os.path.join(checkpoint_dir, 'vanilla_Resnet50_base_model-013-0.790-0.791.h5').replace(\"\\\\\",\"/\"))\n",
    "model_inceptionv3 = tf.keras.models.load_model(os.path.join(checkpoint_dir, 'vanilla_InceptionV3_base_model-020-0.810-0.807.h5').replace(\"\\\\\",\"/\"))\n",
    "model_xception = tf.keras.models.load_model(os.path.join(checkpoint_dir, 'vanilla_Xception_base_model-006-0.797-0.804.h5').replace(\"\\\\\",\"/\"))"
   ]
  },
  {
   "cell_type": "code",
   "execution_count": null,
   "metadata": {},
   "outputs": [],
   "source": [
    "test_cases = [\"vgg16\",  \"resnet50\", \"inceptionv3\", \"xception\"]\n",
    "image_size = [224, 224, 299, 299]\n",
    "seed_value=42"
   ]
  },
  {
   "cell_type": "code",
   "execution_count": null,
   "metadata": {},
   "outputs": [],
   "source": [
    "for j,i in enumerate(test_cases):\n",
    "    print('---------- %s ----------' % i)\n",
    "    \n",
    "    # load and iterate dataset\n",
    "    train_data = datagen.flow_from_directory(globals()[\"RIAA_\" + str(image_size[j]) + \"_binary_warped_train_pth\"], class_mode='binary', target_size=(image_size[j], image_size[j]),batch_size=32, shuffle=True, seed=seed_value)\n",
    "    val_data = datagen_test.flow_from_directory(globals()[\"RIAA_\" + str(image_size[j]) + \"_binary_warped_val_pth\"], class_mode='binary',target_size=(image_size[j], image_size[j]),batch_size=32, shuffle=False, seed=seed_value)\n",
    "    test_data = datagen_test.flow_from_directory(globals()[\"RIAA_\" + str(image_size[j])+ \"_binary_warped_test_pth\"], class_mode='binary', target_size=(image_size[j], image_size[j]),batch_size=32, shuffle=False, seed=seed_value )\n",
    "    generalization_test = datagen_test.flow_from_directory(GPD_test_pth, class_mode='binary', target_size=(image_size[j], image_size[j]),batch_size=32, shuffle=False, seed=seed_value )\n",
    "    \n",
    "    globals()[\"Eval_train_\"+\"model_\"+str(i)] = globals()[\"model_\"+str(i)].evaluate(train_data)\n",
    "    globals()[\"Eval_val_\"+\"model_\"+str(i)] = globals()[\"model_\"+str(i)].evaluate(val_data)\n",
    "    globals()[\"Eval_test_\"+\"model_\"+str(i)] =globals()[\"model_\"+str(i)].evaluate(test_data)\n",
    "    globals()[\"Eval_gentest_\"+\"model_\"+str(i)] =globals()[\"model_\"+str(i)].evaluate(generalization_test)\n",
    "    print('---------------------------------------------------------------' )\n",
    "    \n",
    "    print('Train accuracy')\n",
    "    print(format(globals()[\"Eval_train_\"+\"model_\"+str(i)][1], '.4f'))\n",
    "    print('----------')\n",
    "    \n",
    "    print('Validation accuracy')\n",
    "    print(format(globals()[\"Eval_val_\"+\"model_\"+str(i)][1], '.4f'))\n",
    "    print('Test accuracy')\n",
    "    print(format(globals()[\"Eval_test_\"+\"model_\"+str(i)][1], '.4f'))\n",
    "    print('Test accuracy on GPD dataset')\n",
    "    print(format(globals()[\"Eval_gentest_\"+\"model_\"+str(i)][1], '.4f'))\n",
    "    print('----------')\n",
    "    \n",
    "    globals()[\"true_classes_\"+\"model_\"+str(i)] = test_data.classes\n",
    "    #globals()[\"reality\"+\"vgg16_model_\"+str(i)] = [0 if x > 0.5 else 1 for x in globals()[\"true_classes_\"+\"vgg16_model_\"+str(i)]]\n",
    "    globals()[\"pred\"+\"model_\"+str(i)] =  globals()[\"model_\"+str(i)].predict(test_data)\n",
    "    globals()[\"pred\"+\"model_GPD\"+str(i)] =  globals()[\"model_\"+str(i)].predict(generalization_test)\n",
    "    #globals()[\"predictions\"+\"vgg16_model_\"+str(i)] = [0 if x > 0.5 else 1 for x in globals()[\"pred\"+\"vgg16_model_\"+str(i)]]\n",
    "    globals()[\"predicted_classes\"+\"model_\"+str(i)] = globals()[\"pred\"+\"model_\"+str(i)].round()\n",
    "    globals()[\"cm\"+\"model_\"+str(i)] = confusion_matrix(globals()[\"true_classes_\"+\"model_\"+str(i)], globals()[\"predicted_classes\"+\"model_\"+str(i)])\n",
    "    \n",
    "    print('TrueNegative accuracy')\n",
    "    TrueNegative=globals()[\"cm\"+\"model_\"+str(i)][0][0]/(globals()[\"cm\"+\"model_\"+str(i)][0][1]+globals()[\"cm\"+\"model_\"+str(i)][0][0])\n",
    "    print(format(TrueNegative, '.4f'))\n",
    "    print('TruePositive accuracy')\n",
    "    TruePositive=globals()[\"cm\"+\"model_\"+str(i)][1][1]/(globals()[\"cm\"+\"model_\"+str(i)][1][0]+globals()[\"cm\"+\"model_\"+str(i)][1][1])\n",
    "    print(format(TruePositive, '.4f'))\n",
    "    print('Balanced accuracy')\n",
    "    print(format((0.5*TrueNegative)+(0.5*TruePositive), '.4f'))\n",
    "    \n",
    "    sns.heatmap(globals()[\"cm\"+\"model_\"+str(i)], annot= True, xticklabels = ['Pred: 0_Unaesthetic', 'Pred: 1_Aesthetic'],\n",
    "           yticklabels = ['True: 0_Unaesthetic', 'True: 1_Aesthetic'], cmap='Blues', fmt='g').set_title('Evaluation ' + str(i) + ' model')\n",
    "    plt.show()\n"
   ]
  },
  {
   "cell_type": "code",
   "execution_count": null,
   "metadata": {},
   "outputs": [],
   "source": [
    "plt.figure(figsize=(20, 10))\n",
    "\n",
    "for i in range(12):\n",
    "    element= wrong_pred_list[i]\n",
    "    plt.subplot(3, 4, i + 1)\n",
    "    img_url=test_data.filenames[element]\n",
    "    full_img_pth = os.path.join(RIAA_pth, 'Data_Split_Binary_300', 'test', img_url).replace(\"\\\\\",\"/\")\n",
    "    title_text=f' Prediction: {classes[int(pred[element].round())]}'\n",
    "    #f'Pred: {int(pred[element].round())}, True: {test_data.classes[element]}'\n",
    "    \n",
    "    if int(pred[element].round())==test_data.classes[element]:\n",
    "        color='g'\n",
    "    else:\n",
    "        color='r'\n",
    "    \n",
    "    img = plt.imread(full_img_pth)\n",
    "    plt.imshow(img, cmap='jet')\n",
    "    plt.title(title_text, color=color) \n",
    "    plt.axis('off')\n",
    "    \n",
    "plt.tight_layout()"
   ]
  },
  {
   "cell_type": "code",
   "execution_count": null,
   "metadata": {},
   "outputs": [],
   "source": [
    "for j in range (50):\n",
    "    img_url=test_data.filenames[j]\n",
    "    full_img_pth = os.path.join(RIAA_pth, 'Data_Split_Binary_300', 'test', img_url).replace(\"\\\\\",\"/\")\n",
    "    print(full_img_pth)\n",
    "    img = plt.imread(full_img_pth)\n",
    "    title_text= f'{classes[test_data.classes[j]]}'\n",
    "    plt.imshow(img, cmap='jet')\n",
    "    print(title_text)\n",
    "    #plt.title(title_text) \n",
    "    plt.axis('off')\n",
    "    plt.show()\n",
    "    for i in test_cases:\n",
    "        print(\"pred\"+\"model_\"+str(i))\n",
    "        print(globals()[\"pred\"+\"model_\"+str(i)][j])\n",
    "    "
   ]
  },
  {
   "cell_type": "code",
   "execution_count": null,
   "metadata": {},
   "outputs": [],
   "source": [
    "test_matrix=np.column_stack((predmodel_vgg16, predmodel_resnet50, predmodel_inceptionv3, predmodel_xception))"
   ]
  },
  {
   "cell_type": "code",
   "execution_count": null,
   "metadata": {},
   "outputs": [],
   "source": [
    "list_0_1=[]"
   ]
  },
  {
   "cell_type": "code",
   "execution_count": null,
   "metadata": {},
   "outputs": [],
   "source": [
    "for i in range(len(test_matrix)):\n",
    "    #for j in (test_matrix[0]):\n",
    "    if test_matrix[i][1] > 0.5 and  test_matrix[i][2] > 0.5 and  test_matrix[i][3] > 0.5 and  test_matrix[i][0] > 0.5:\n",
    "        list_0_1.append(1)\n",
    "    elif test_matrix[i][1] <= 0.5 and  test_matrix[i][2] <= 0.5 and  test_matrix[i][3] <= 0.5 and  test_matrix[i][0] <= 0.5:\n",
    "        list_0_1.append(0)\n",
    "    else:\n",
    "         list_0_1.append('N/A')\n"
   ]
  },
  {
   "cell_type": "code",
   "execution_count": null,
   "metadata": {},
   "outputs": [],
   "source": [
    "test_list_true=[]\n",
    "test_list_false=[]\n",
    "classes=list(test_data.class_indices.keys())"
   ]
  },
  {
   "cell_type": "code",
   "execution_count": null,
   "metadata": {},
   "outputs": [],
   "source": [
    "for i in range(len(test_matrix)):\n",
    "    if list_0_1[i] == test_data.classes[i]:\n",
    "        test_list_true.append(i)\n",
    "    elif list_0_1[i] != 'N/A':\n",
    "        test_list_false.append(i)"
   ]
  },
  {
   "cell_type": "code",
   "execution_count": null,
   "metadata": {},
   "outputs": [],
   "source": [
    "import random\n",
    "random.shuffle(test_list_true)\n",
    "random.shuffle(test_list_false)"
   ]
  },
  {
   "cell_type": "code",
   "execution_count": null,
   "metadata": {},
   "outputs": [],
   "source": [
    "plt.figure(figsize=(20, 10))\n",
    "\n",
    "for i in range(12):\n",
    "    element= test_list_true[i]\n",
    "    plt.subplot(3, 4, i + 1)\n",
    "    img_url=test_data.filenames[element]\n",
    "    full_img_pth = os.path.join(RIAA_pth, 'Data_Split_Binary_300', 'test', img_url).replace(\"\\\\\",\"/\")\n",
    "    title_text= classes[int(predmodel_vgg16[element].round())]\n",
    "\n",
    "    \n",
    "    if int(pred[element].round())==test_data.classes[element]:\n",
    "        color='g'\n",
    "    else:\n",
    "        color='r'\n",
    "    \n",
    "    img = plt.imread(full_img_pth)\n",
    "    plt.imshow(img, cmap='jet')\n",
    "    plt.title(title_text, color=color) \n",
    "    plt.axis('off')\n",
    "    \n",
    "plt.tight_layout()"
   ]
  },
  {
   "cell_type": "code",
   "execution_count": null,
   "metadata": {},
   "outputs": [],
   "source": [
    "plt.figure(figsize=(20, 10))\n",
    "\n",
    "for i in range(12):\n",
    "    element= test_list_false[i]\n",
    "    plt.subplot(3, 4, i + 1)\n",
    "    img_url=test_data.filenames[element]\n",
    "    full_img_pth = os.path.join(RIAA_pth, 'Data_Split_Binary_300', 'test', img_url).replace(\"\\\\\",\"/\")\n",
    "    title_text= f'Prediction: {classes[int(predmodel_resnet50[element].round())]}'\n",
    "    #f'Pred: {int(pred[element].round())}, True: {test_data.classes[element]}'\n",
    "    \n",
    "    if int(predmodel_resnet50[element].round())==test_data.classes[element]:\n",
    "        color='g'\n",
    "    else:\n",
    "        color='r'\n",
    "    \n",
    "    img = plt.imread(full_img_pth)\n",
    "    plt.imshow(img, cmap='jet')\n",
    "    plt.title(title_text, color=color) \n",
    "    plt.axis('off')\n",
    "    \n",
    "plt.tight_layout()"
   ]
  },
  {
   "cell_type": "markdown",
   "metadata": {},
   "source": [
    "### Generalization Test on GPD"
   ]
  },
  {
   "cell_type": "code",
   "execution_count": null,
   "metadata": {},
   "outputs": [],
   "source": [
    "for j in range (50):\n",
    "    img_url=generalization_test.filenames[-j]\n",
    "    full_img_pth = os.path.join(GPD_test_pth, img_url).replace(\"\\\\\",\"/\")\n",
    "    print(full_img_pth)\n",
    "    img = plt.imread(full_img_pth)\n",
    "    title_text= f'{classes[generalization_test.classes[-j]]}'\n",
    "    plt.imshow(img, cmap='jet')\n",
    "    print(title_text)\n",
    "    #plt.title(title_text) \n",
    "    plt.axis('off')\n",
    "    plt.show()\n",
    "    for i in test_cases:\n",
    "        print(\"pred\"+\"model_GPD\"+str(i))\n",
    "        print(globals()[\"pred\"+\"model_GPD\"+str(i)][-j])"
   ]
  }
 ],
 "metadata": {
  "createdOn": 1655196706797,
  "creator": "mgros",
  "customFields": {},
  "hide_input": false,
  "kernelspec": {
   "display_name": "Python 3 (ipykernel)",
   "language": "python",
   "name": "python3"
  },
  "language_info": {
   "codemirror_mode": {
    "name": "ipython",
    "version": 3
   },
   "file_extension": ".py",
   "mimetype": "text/x-python",
   "name": "python",
   "nbconvert_exporter": "python",
   "pygments_lexer": "ipython3",
   "version": "3.9.15"
  },
  "modifiedBy": "jweiler",
  "tags": [],
  "versionNumber": 2
 },
 "nbformat": 4,
 "nbformat_minor": 1
}
